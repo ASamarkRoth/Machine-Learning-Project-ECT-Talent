{
 "cells": [
  {
   "cell_type": "markdown",
   "metadata": {},
   "source": [
    "# Logistic Regression Training"
   ]
  },
  {
   "cell_type": "code",
   "execution_count": null,
   "metadata": {},
   "outputs": [],
   "source": [
    "import pickle\n",
    "\n",
    "import numpy as np\n",
    "import os\n",
    "from sklearn.linear_model import LogisticRegressionCV\n",
    "from sklearn.linear_model import LogisticRegression\n",
    "\n",
    "from sklearn.metrics import classification_report\n",
    "\n",
    "from data_processing.data import CLASS_NAMES, load_discretized_data\n",
    "\n",
    "FEATURES = 0\n",
    "TARGETS = 1"
   ]
  },
  {
   "cell_type": "markdown",
   "metadata": {},
   "source": [
    "## Setup and load data"
   ]
  },
  {
   "cell_type": "code",
   "execution_count": null,
   "metadata": {},
   "outputs": [],
   "source": [
    "data_dir = \"./data_processing/voxels/\"\n",
    "\n",
    "# Set random seeds\n",
    "seed = 71\n",
    "np.random.seed(seed)\n",
    "\n",
    "# Load data\n",
    "train, _ = load_discretized_data(data_dir, prefix='', binary=True)\n",
    "\n",
    "#select subset of data\n",
    "examples_limit = -1\n",
    "if examples_limit == -1:\n",
    "    examples_limit = train[TARGETS].shape[0]"
   ]
  },
  {
   "cell_type": "markdown",
   "metadata": {},
   "source": [
    "## Build model"
   ]
  },
  {
   "cell_type": "markdown",
   "metadata": {},
   "source": [
    "Use standard `LogisticRegression` without regularization:"
   ]
  },
  {
   "cell_type": "code",
   "execution_count": null,
   "metadata": {},
   "outputs": [],
   "source": [
    "model = LogisticRegression(\n",
    "        solver='saga', \n",
    "        n_jobs=-1, \n",
    "        class_weight='None', #'balanced'\n",
    "        penalty='l2', #regularization (penalization)\n",
    "        C=1.0, # regularization parameter\n",
    "        max_iter=4000,\n",
    "        tol=1e-4\n",
    "        )"
   ]
  },
  {
   "cell_type": "markdown",
   "metadata": {},
   "source": [
    "Use cross-validation and a grid-search for best regularization, `LogisticRegressionCV`:"
   ]
  },
  {
   "cell_type": "code",
   "execution_count": null,
   "metadata": {},
   "outputs": [],
   "source": [
    "model_cv = LogisticRegressionCV(\n",
    "        solver='saga', \n",
    "        n_jobs=-1, \n",
    "        class_weight='None', #'balanced'\n",
    "        penalty='l2', #regularization (penalization)\n",
    "        Cs=10, #inverse regularization strength (if int, set in a scale)\n",
    "        cv=5, #cross-validation fold\n",
    "        max_iter=10000,\n",
    "        tol=1e-4\n",
    "        )"
   ]
  },
  {
   "cell_type": "markdown",
   "metadata": {},
   "source": [
    "## Train the model"
   ]
  },
  {
   "cell_type": "code",
   "execution_count": null,
   "metadata": {},
   "outputs": [],
   "source": [
    "%%time\n",
    "model.fit(train[FEATURES][:examples_limit],\n",
    "          train[TARGETS][:examples_limit])\n",
    "\n",
    "model_cv.fit(train[FEATURES][:examples_limit],\n",
    "          train[TARGETS][:examples_limit])\n",
    "\n",
    "\n",
    "log_dir = \"logistic/logs/\"\n",
    "if not os.path.exists(log_dir):\n",
    "    os.makedirs(log_dir)\n",
    "\n",
    "model_filename = os.path.join(log_dir, 'logistic_model.pkl')\n",
    "pickle.dump(model, open(model_filename, 'wb'))\n",
    "model_filename = os.path.join(log_dir, 'logistic_cv_model.pkl')\n",
    "pickle.dump(model_cv, open(model_filename, 'wb'))"
   ]
  },
  {
   "cell_type": "code",
   "execution_count": null,
   "metadata": {},
   "outputs": [],
   "source": [
    "model_cv.C_"
   ]
  },
  {
   "cell_type": "markdown",
   "metadata": {},
   "source": [
    "## Evaluate model"
   ]
  },
  {
   "cell_type": "code",
   "execution_count": null,
   "metadata": {},
   "outputs": [],
   "source": [
    "import logistic.eval\n",
    "%load_ext autoreload\n",
    "%autoreload 1\n",
    "%aimport logistic.eval"
   ]
  },
  {
   "cell_type": "code",
   "execution_count": null,
   "metadata": {},
   "outputs": [],
   "source": [
    "logistic.eval.eval(model_file='logistic/logs/logistic_model.pkl', data=train, name=\"LogisticRegression\", examples_limit=examples_limit)"
   ]
  },
  {
   "cell_type": "code",
   "execution_count": null,
   "metadata": {},
   "outputs": [],
   "source": [
    "logistic.eval.eval(model_file='logistic/logs/logistic_cv_model.pkl', data=train, name=\"LogisticCVRegression\", examples_limit=examples_limit)"
   ]
  }
 ],
 "metadata": {
  "kernelspec": {
   "display_name": "Python 3",
   "language": "python",
   "name": "python3"
  },
  "language_info": {
   "codemirror_mode": {
    "name": "ipython",
    "version": 3
   },
   "file_extension": ".py",
   "mimetype": "text/x-python",
   "name": "python",
   "nbconvert_exporter": "python",
   "pygments_lexer": "ipython3",
   "version": "3.6.10"
  }
 },
 "nbformat": 4,
 "nbformat_minor": 4
}
