{
 "cells": [
  {
   "cell_type": "markdown",
   "metadata": {},
   "source": [
    "# Logistic Regression Training"
   ]
  },
  {
   "cell_type": "code",
   "execution_count": null,
   "metadata": {},
   "outputs": [],
   "source": [
    "import matplotlib.pyplot as plt\n",
    "import numpy as np\n",
    "import h5py\n",
    "import re\n",
    "import pandas as pd"
   ]
  },
  {
   "cell_type": "markdown",
   "metadata": {},
   "source": [
    "### Load code for this project"
   ]
  },
  {
   "cell_type": "code",
   "execution_count": null,
   "metadata": {},
   "outputs": [],
   "source": [
    "import logistic.train\n",
    "import logistic.eval\n",
    "%load_ext autoreload\n",
    "%autoreload 1\n",
    "%aimport logistic.train\n",
    "%aimport logistic.eval"
   ]
  },
  {
   "cell_type": "code",
   "execution_count": null,
   "metadata": {},
   "outputs": [],
   "source": [
    "import pickle\n",
    "\n",
    "import numpy as np\n",
    "import os\n",
    "from sklearn.linear_model import LogisticRegressionCV\n",
    "from sklearn.linear_model import LogisticRegression\n",
    "\n",
    "from sklearn.metrics import classification_report\n",
    "\n",
    "from utils.data import CLASS_NAMES, load_discretized_data\n",
    "\n",
    "FEATURES = 0\n",
    "TARGETS = 1"
   ]
  },
  {
   "cell_type": "markdown",
   "metadata": {},
   "source": [
    "## Train a logistic regression classifier."
   ]
  },
  {
   "cell_type": "code",
   "execution_count": null,
   "metadata": {},
   "outputs": [],
   "source": [
    "data_dir = \"./data_processing/voxels/\"\n",
    "\n",
    "# Set random seeds\n",
    "seed = 71\n",
    "np.random.seed(seed)\n",
    "\n",
    "# Load data\n",
    "train, _ = load_discretized_data(data_dir, prefix='', binary=True)\n",
    "\n",
    "#select subset of data\n",
    "examples_limit = 1000\n",
    "if examples_limit == -1:\n",
    "    examples_limit = train[TARGETS].shape[0]"
   ]
  },
  {
   "cell_type": "markdown",
   "metadata": {},
   "source": [
    "## Build model"
   ]
  },
  {
   "cell_type": "markdown",
   "metadata": {},
   "source": [
    "Use standard `LogisticRegression` without regularization:"
   ]
  },
  {
   "cell_type": "code",
   "execution_count": null,
   "metadata": {},
   "outputs": [],
   "source": [
    "model = LogisticRegression(\n",
    "        solver='saga', \n",
    "        n_jobs=-1, \n",
    "        class_weight='None', #'balanced'\n",
    "        penalty='l2', #regularization (penalization)\n",
    "        C=1.0, # regularization parameter\n",
    "        max_iter=4000,\n",
    "        tol=1e-4\n",
    "        )"
   ]
  },
  {
   "cell_type": "markdown",
   "metadata": {},
   "source": [
    "Use cross-validation and a grid-search for best regularization, `LogisticRegressionCV`:"
   ]
  },
  {
   "cell_type": "code",
   "execution_count": null,
   "metadata": {},
   "outputs": [],
   "source": [
    "model_cv = LogisticRegressionCV(\n",
    "        solver='saga', \n",
    "        n_jobs=-1, \n",
    "        class_weight='None', #'balanced'\n",
    "        penalty='l2', #regularization (penalization)\n",
    "        Cs=10, #inverse regularization strength (if int, set in a scale)\n",
    "        cv=5, #cross-validation fold\n",
    "        max_iter=4000,\n",
    "        tol=1e-4\n",
    "        )"
   ]
  },
  {
   "cell_type": "markdown",
   "metadata": {},
   "source": [
    "## Train the model"
   ]
  },
  {
   "cell_type": "code",
   "execution_count": null,
   "metadata": {},
   "outputs": [],
   "source": [
    "%%time\n",
    "model.fit(train[FEATURES][:examples_limit],\n",
    "          train[TARGETS][:examples_limit])\n",
    "\n",
    "model_cv.fit(train[FEATURES][:examples_limit],\n",
    "          train[TARGETS][:examples_limit])\n",
    "\n",
    "\n",
    "log_dir = \"logs/\"\n",
    "if not os.path.exists(log_dir):\n",
    "    os.makedirs(log_dir)\n",
    "\n",
    "model_filename = os.path.join(log_dir, 'logistic_model.pkl')\n",
    "pickle.dump(model, open(model_filename, 'wb'))\n",
    "model_filename = os.path.join(log_dir, 'logistic_cv_model.pkl')\n",
    "pickle.dump(model_cv, open(model_filename, 'wb'))"
   ]
  },
  {
   "cell_type": "markdown",
   "metadata": {},
   "source": [
    "## Evaluate the logistic regression classifier\n",
    "\n",
    "Accuracy and classification metrics are printed to the console."
   ]
  },
  {
   "cell_type": "code",
   "execution_count": null,
   "metadata": {},
   "outputs": [],
   "source": [
    "model_file = 'logs/logistic_model.pkl'\n",
    "assert model_file.endswith('.pkl'), 'model_file must point to a pickle file'\n",
    "\n",
    "# Set random seeds\n",
    "np.random.seed(seed)\n",
    "\n",
    "# Load data\n",
    "_, test = load_discretized_data(data_dir, prefix='', binary=True)\n",
    "\n",
    "examples_limit = -1\n",
    "if examples_limit == -1:\n",
    "    examples_limit = test[TARGETS].shape[0]\n",
    "\n",
    "# Load the model\n",
    "model = pickle.load(open(model_file, 'rb'))\n",
    "\n",
    "# Evaluate the model\n",
    "acc = model.score(test[FEATURES][:examples_limit], test[TARGETS][:examples_limit])\n",
    "acc_cv = model_cv.score(test[FEATURES][:examples_limit], test[TARGETS][:examples_limit])\n",
    "\n",
    "\n",
    "# Make predictions\n",
    "preds = model.predict(test[FEATURES][:examples_limit])\n",
    "preds = model_cv.predict(test[FEATURES][:examples_limit])\n",
    "\n",
    "# Get classification metrics\n",
    "report = classification_report(test[TARGETS][:examples_limit], preds,\n",
    "                               target_names=CLASS_NAMES,\n",
    "                               digits=2)\n",
    "\n",
    "report_cv = classification_report(test[TARGETS][:examples_limit], preds,\n",
    "                               target_names=CLASS_NAMES,\n",
    "                               digits=2)\n",
    "\n",
    "# Print the results\n",
    "print('\\nClassification Report, LogisticRegression:\\n')\n",
    "print(report)\n",
    "print('Accuracy: {}\\n'.format(acc))\n",
    "\n",
    "print('\\nClassification Report, LogisticRegressionCV:\\n')\n",
    "print(report_cv)\n",
    "print('Accuracy: {}\\n'.format(acc_cv))"
   ]
  }
 ],
 "metadata": {
  "kernelspec": {
   "display_name": "Python 3",
   "language": "python",
   "name": "python3"
  },
  "language_info": {
   "codemirror_mode": {
    "name": "ipython",
    "version": 3
   },
   "file_extension": ".py",
   "mimetype": "text/x-python",
   "name": "python",
   "nbconvert_exporter": "python",
   "pygments_lexer": "ipython3",
   "version": "3.6.10"
  }
 },
 "nbformat": 4,
 "nbformat_minor": 4
}
