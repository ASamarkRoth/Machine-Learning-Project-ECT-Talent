{
 "cells": [
  {
   "cell_type": "markdown",
   "metadata": {},
   "source": [
    "# Data exploration"
   ]
  },
  {
   "cell_type": "code",
   "execution_count": null,
   "metadata": {},
   "outputs": [],
   "source": [
    "import matplotlib.pyplot as plt\n",
    "import numpy as np\n",
    "import h5py\n",
    "import re\n",
    "import pandas as pd"
   ]
  },
  {
   "cell_type": "markdown",
   "metadata": {},
   "source": [
    "### Load code for this project"
   ]
  },
  {
   "cell_type": "code",
   "execution_count": null,
   "metadata": {},
   "outputs": [],
   "source": [
    "import data_processing.data as dp\n",
    "%load_ext autoreload\n",
    "%autoreload 1\n",
    "%aimport data_processing.data"
   ]
  },
  {
   "cell_type": "code",
   "execution_count": null,
   "metadata": {},
   "outputs": [],
   "source": [
    "%matplotlib inline"
   ]
  },
  {
   "cell_type": "markdown",
   "metadata": {},
   "source": [
    "### Investigate structure of data"
   ]
  },
  {
   "cell_type": "code",
   "execution_count": null,
   "metadata": {},
   "outputs": [],
   "source": [
    "filename = 'data_processing/data/Mg22_alphaalpha_digiSim.h5'\n",
    "hf = h5py.File(filename, \"r\")\n",
    "hf.get('/get')"
   ]
  },
  {
   "cell_type": "markdown",
   "metadata": {},
   "source": [
    "## Read and label data - to dictionary"
   ]
  },
  {
   "cell_type": "markdown",
   "metadata": {},
   "source": [
    "* Even events: beam -> label = 0\n",
    "* Odd events: beam -> label = 1"
   ]
  },
  {
   "cell_type": "code",
   "execution_count": null,
   "metadata": {},
   "outputs": [],
   "source": [
    "dict_data = dp.read_and_label_data(\"data_processing/data/\")"
   ]
  },
  {
   "cell_type": "markdown",
   "metadata": {},
   "source": [
    "## Discretization"
   ]
  },
  {
   "cell_type": "code",
   "execution_count": null,
   "metadata": {},
   "outputs": [],
   "source": [
    "import data_processing.generate_images as gi\n",
    "%load_ext autoreload\n",
    "%autoreload 1\n",
    "%aimport data_processing.generate_images"
   ]
  },
  {
   "cell_type": "markdown",
   "metadata": {},
   "source": [
    "From raw event to discretized image via transformation and normalization"
   ]
  },
  {
   "cell_type": "code",
   "execution_count": null,
   "metadata": {},
   "outputs": [],
   "source": [
    "event_i = 1"
   ]
  },
  {
   "cell_type": "code",
   "execution_count": null,
   "metadata": {},
   "outputs": [],
   "source": [
    "data = [list(dict_data[event_i])] #from dict to list (important to use 'list' as it copies the data!)\n",
    "\n",
    "print(\"Shape:\\n\\tdata:\", len(data))\n",
    "data, max_charge = gi.transform_data(data)\n",
    "\n",
    "features, targets = gi.make_image_features_targets(data, 'xy', 48)"
   ]
  },
  {
   "cell_type": "code",
   "execution_count": null,
   "metadata": {},
   "outputs": [],
   "source": [
    "%matplotlib inline\n",
    "fig = plt.figure(figsize=(12, 6))\n",
    "\n",
    "ax = fig.add_subplot(1,2,1)\n",
    "sc = plt.scatter(dp.get_event_by_index(hf, event_i)[\"x\"], dp.get_event_by_index(hf, event_i)[\"y\"], c=np.log(dp.get_event_by_index(hf, event_i)[\"A\"]), cmap='Greys', )\n",
    "ax.set_xlabel(\"x\")\n",
    "ax.set_ylabel(\"y\")\n",
    "ax.set_title(\"Raw image\")\n",
    "plt.xlim(-275.0, 275.0)\n",
    "plt.ylim((-275.0, 275.0))\n",
    "cbar = fig.colorbar(sc, orientation='vertical', label='log(A)')\n",
    "ax.set_aspect('equal', adjustable='box')\n",
    "\n",
    "ax = fig.add_subplot(1,2,2)\n",
    "im = ax.imshow(features[0], cmap='Greys')\n",
    "ax.set_xlabel(\"Pixel along x\")\n",
    "ax.set_ylabel(\"Pixel along y\")\n",
    "ax.set_title(\"Discretized image\")\n",
    "plt.colorbar(im, ax=ax, label=\"RGB\")\n",
    "\n",
    "plt.tight_layout()\n",
    "plt.show()"
   ]
  },
  {
   "cell_type": "markdown",
   "metadata": {},
   "source": [
    "## Voxelized data"
   ]
  },
  {
   "cell_type": "code",
   "execution_count": null,
   "metadata": {},
   "outputs": [],
   "source": [
    "import data_processing.generate_voxels as gv\n",
    "%aimport data_processing.generate_voxels"
   ]
  },
  {
   "cell_type": "code",
   "execution_count": null,
   "metadata": {},
   "outputs": [],
   "source": [
    "event_i = 5\n",
    "\n",
    "xyzs = gv.discretize_grid_charge(dp.get_event_by_index(hf, event_i), 20, 20, 20)\n",
    "voxels = xyzs.toarray()\n",
    "\n",
    "mask = voxels[0] > 0"
   ]
  },
  {
   "cell_type": "code",
   "execution_count": null,
   "metadata": {},
   "outputs": [],
   "source": [
    "bucket_num = np.array(range(len(voxels[0])))[mask]\n",
    "\n",
    "x, y, z = gv.get_xyz_from_bucket(bucket_num, 20, 20, 20)"
   ]
  },
  {
   "cell_type": "code",
   "execution_count": null,
   "metadata": {},
   "outputs": [],
   "source": [
    "from mpl_toolkits.mplot3d import Axes3D\n",
    "import matplotlib.pyplot as plt\n",
    "import numpy as np\n",
    "\n",
    "fig = plt.figure(figsize=(10,12))\n",
    "ax = fig.add_subplot(211, projection='3d')\n",
    "sc = ax.scatter(dp.get_event_by_index(hf, event_i)[\"x\"], dp.get_event_by_index(hf, event_i)[\"y\"], dp.get_event_by_index(hf, event_i)[\"z\"], c=dp.get_event_by_index(hf, event_i)[\"A\"], cmap='inferno', marker='.')\n",
    "ax.set_xlabel(\"x\")\n",
    "ax.set_ylabel(\"y\")\n",
    "ax.set_zlabel(\"z\")\n",
    "ax.set_title(\"Raw data\")\n",
    "plt.colorbar(sc, ax=ax, label='Charge')\n",
    "\n",
    "ax = fig.add_subplot(212, projection='3d')\n",
    "sc = ax.scatter(x, y, z, c=voxels[0][mask], cmap='inferno')\n",
    "ax.set_xlabel(\"x\")\n",
    "ax.set_ylabel(\"y\")\n",
    "ax.set_zlabel(\"z\")\n",
    "#ax.set_xlim(0, gv.X_DISC)\n",
    "#ax.set_ylim(0, gv.Y_DISC)\n",
    "#ax.set_zlim(0, gv.Z_DISC)\n",
    "ax.set_title(\"Discretized data\")\n",
    "plt.colorbar(sc, ax=ax, label='Scaled charge')\n",
    "\n",
    "plt.show()"
   ]
  }
 ],
 "metadata": {
  "kernelspec": {
   "display_name": "Python 3",
   "language": "python",
   "name": "python3"
  },
  "language_info": {
   "codemirror_mode": {
    "name": "ipython",
    "version": 3
   },
   "file_extension": ".py",
   "mimetype": "text/x-python",
   "name": "python",
   "nbconvert_exporter": "python",
   "pygments_lexer": "ipython3",
   "version": "3.6.10"
  }
 },
 "nbformat": 4,
 "nbformat_minor": 4
}
