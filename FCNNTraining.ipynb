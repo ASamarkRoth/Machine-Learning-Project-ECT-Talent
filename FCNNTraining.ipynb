{
 "cells": [
  {
   "cell_type": "markdown",
   "metadata": {},
   "source": [
    "# Training the Fully-Connected Neural Network Model"
   ]
  },
  {
   "cell_type": "code",
   "execution_count": 1,
   "metadata": {},
   "outputs": [],
   "source": [
    "import matplotlib.pyplot as plt\n",
    "import numpy as np\n",
    "import h5py\n",
    "import re\n",
    "import pandas as pd"
   ]
  },
  {
   "cell_type": "code",
   "execution_count": 2,
   "metadata": {},
   "outputs": [],
   "source": [
    "%load_ext tensorboard\n",
    "%load_ext autoreload"
   ]
  },
  {
   "cell_type": "markdown",
   "metadata": {},
   "source": [
    "Load code for this project"
   ]
  },
  {
   "cell_type": "code",
   "execution_count": 3,
   "metadata": {},
   "outputs": [],
   "source": [
    "import fcnn.train\n",
    "import fcnn.eval\n",
    "import data_processing.data as dp\n",
    "%autoreload 1\n",
    "%aimport fcnn.train\n",
    "%aimport fcnn.eval"
   ]
  },
  {
   "cell_type": "markdown",
   "metadata": {},
   "source": [
    "### Load the training data"
   ]
  },
  {
   "cell_type": "code",
   "execution_count": 4,
   "metadata": {},
   "outputs": [
    {
     "name": "stdout",
     "output_type": "stream",
     "text": [
      "Loading discretized data from: ./data_processing/voxels/Grid20voxels.h5\n"
     ]
    }
   ],
   "source": [
    "path_data = './data_processing/voxels/'\n",
    "train, _ = dp.load_discretized_data(path_data, prefix='Grid20', categorical=False, binary=True, normalize=True)"
   ]
  },
  {
   "cell_type": "code",
   "execution_count": 5,
   "metadata": {},
   "outputs": [],
   "source": [
    "train = (train[0].toarray(), train[1])"
   ]
  },
  {
   "cell_type": "markdown",
   "metadata": {},
   "source": [
    "Run the following to clear the logged training data visualized in `tensorboard`."
   ]
  },
  {
   "cell_type": "code",
   "execution_count": 6,
   "metadata": {},
   "outputs": [],
   "source": [
    "!rm -rf fcnn/logs/*"
   ]
  },
  {
   "cell_type": "markdown",
   "metadata": {},
   "source": [
    "## Building the model "
   ]
  },
  {
   "cell_type": "markdown",
   "metadata": {},
   "source": [
    "The model used in the current work is composed of one fully-connected layer with ReLU activation. A single-node Sigmoid activated output layer ends the model."
   ]
  },
  {
   "cell_type": "markdown",
   "metadata": {},
   "source": [
    "The implementation of the FCNN model is flexible in a sense that one can choose the number of hidden layers, number of neurons in each layer as well as if one wants to apply dropout and at which probability. In the training, only one hidden layer was considered. An excerpt from the implemented code may be seen below:"
   ]
  },
  {
   "cell_type": "markdown",
   "metadata": {},
   "source": [
    "```python\n",
    "model = tf.keras.Sequential()\n",
    "model.add(tf.keras.layers.Dense(hidden_layers[0], input_dim=train[FEATURES].shape[1], activation='relu'))\n",
    "if use_dropout:\n",
    "    model.add(tf.keras.layers.Dropout(dropout))\n",
    "for neurons in hidden_layers[1:]:\n",
    "    model.add(tf.keras.layers.Dense(neurons, input_dim=train[FEATURES].shape[1], activation='relu'))\n",
    "    if use_dropout:\n",
    "        model.add(tf.keras.layers.Dropout(dropout))\n",
    "model.add(tf.keras.layers.Dense(num_categories, activation='sigmoid'))\n",
    "```"
   ]
  },
  {
   "cell_type": "markdown",
   "metadata": {},
   "source": [
    "**See also**: [fcnn/train.py](./fcnn/train.py)"
   ]
  },
  {
   "cell_type": "markdown",
   "metadata": {},
   "source": [
    "## Training the model"
   ]
  },
  {
   "cell_type": "markdown",
   "metadata": {},
   "source": [
    "The following steps were taken in the process of training the model:\n",
    "\n",
    "### A 'simple' start:\n",
    "\n",
    "* A subset of the data was only included in the training, e.g. 160 samples\n",
    "* No regularization, i.e. dropout not activated\n",
    "* A limited number of neurons were included, e.g. 32\n",
    "* Started with a learning rate of 1e-5, taken from ([Kuchera, 2019](https://www.sciencedirect.com/science/article/pii/S0168900219308046?via%3Dihub))\n",
    "* I strived to just be able to train the model, i.e. observe a decreasing loss function with the number of epochs"
   ]
  },
  {
   "cell_type": "code",
   "execution_count": 7,
   "metadata": {},
   "outputs": [
    {
     "name": "stdout",
     "output_type": "stream",
     "text": [
      "Model: \"sequential\"\n",
      "_________________________________________________________________\n",
      "Layer (type)                 Output Shape              Param #   \n",
      "=================================================================\n",
      "dense (Dense)                (None, 32)                256032    \n",
      "_________________________________________________________________\n",
      "dense_1 (Dense)              (None, 1)                 33        \n",
      "=================================================================\n",
      "Total params: 256,065\n",
      "Trainable params: 256,065\n",
      "Non-trainable params: 0\n",
      "_________________________________________________________________\n",
      "None\n",
      "\n",
      "Writing fits to: fcnn/logs/nodes32_dropoutFalse_lr1e-05_decay0.0_samples-160/20200828-155109\n",
      "Checkpoint path: fcnn/logs/nodes32_dropoutFalse_lr1e-05_decay0.0_samples-160/20200828-155109/epoch-{epoch:02d}.h5\n",
      "Epoch 1/20\n",
      "39/39 [==============================] - 2s 43ms/step - loss: 0.6942 - accuracy: 0.4246 - val_loss: 0.6939 - val_accuracy: 0.4491\n",
      "Epoch 2/20\n",
      "39/39 [==============================] - 1s 34ms/step - loss: 0.6936 - accuracy: 0.4697 - val_loss: 0.6933 - val_accuracy: 0.4907\n",
      "Epoch 3/20\n",
      "39/39 [==============================] - 1s 23ms/step - loss: 0.6929 - accuracy: 0.5049 - val_loss: 0.6927 - val_accuracy: 0.5231\n",
      "Epoch 4/20\n",
      "39/39 [==============================] - 1s 28ms/step - loss: 0.6923 - accuracy: 0.5410 - val_loss: 0.6921 - val_accuracy: 0.5556\n",
      "Epoch 5/20\n",
      "39/39 [==============================] - 1s 23ms/step - loss: 0.6917 - accuracy: 0.5902 - val_loss: 0.6915 - val_accuracy: 0.6435\n",
      "Epoch 6/20\n",
      "39/39 [==============================] - 1s 28ms/step - loss: 0.6910 - accuracy: 0.6574 - val_loss: 0.6909 - val_accuracy: 0.6898\n",
      "Epoch 7/20\n",
      "39/39 [==============================] - 1s 25ms/step - loss: 0.6904 - accuracy: 0.7254 - val_loss: 0.6903 - val_accuracy: 0.7222\n",
      "Epoch 8/20\n",
      "39/39 [==============================] - 1s 25ms/step - loss: 0.6897 - accuracy: 0.7533 - val_loss: 0.6896 - val_accuracy: 0.7685\n",
      "Epoch 9/20\n",
      "39/39 [==============================] - 1s 26ms/step - loss: 0.6890 - accuracy: 0.7836 - val_loss: 0.6889 - val_accuracy: 0.8194\n",
      "Epoch 10/20\n",
      "39/39 [==============================] - 1s 31ms/step - loss: 0.6883 - accuracy: 0.8148 - val_loss: 0.6883 - val_accuracy: 0.8380\n",
      "Epoch 11/20\n",
      "39/39 [==============================] - 1s 26ms/step - loss: 0.6876 - accuracy: 0.8418 - val_loss: 0.6875 - val_accuracy: 0.8657\n",
      "Epoch 12/20\n",
      "39/39 [==============================] - 1s 30ms/step - loss: 0.6868 - accuracy: 0.8656 - val_loss: 0.6868 - val_accuracy: 0.8704\n",
      "Epoch 13/20\n",
      "39/39 [==============================] - 1s 33ms/step - loss: 0.6860 - accuracy: 0.8795 - val_loss: 0.6861 - val_accuracy: 0.8889\n",
      "Epoch 14/20\n",
      "39/39 [==============================] - 1s 28ms/step - loss: 0.6852 - accuracy: 0.8926 - val_loss: 0.6853 - val_accuracy: 0.8981\n",
      "Epoch 15/20\n",
      "39/39 [==============================] - 1s 35ms/step - loss: 0.6844 - accuracy: 0.9082 - val_loss: 0.6845 - val_accuracy: 0.9074\n",
      "Epoch 16/20\n",
      "39/39 [==============================] - 1s 30ms/step - loss: 0.6836 - accuracy: 0.9205 - val_loss: 0.6837 - val_accuracy: 0.9167\n",
      "Epoch 17/20\n",
      "39/39 [==============================] - 1s 35ms/step - loss: 0.6827 - accuracy: 0.9303 - val_loss: 0.6829 - val_accuracy: 0.9167\n",
      "Epoch 18/20\n",
      "39/39 [==============================] - 1s 32ms/step - loss: 0.6819 - accuracy: 0.9361 - val_loss: 0.6821 - val_accuracy: 0.9213\n",
      "Epoch 19/20\n",
      "39/39 [==============================] - 1s 22ms/step - loss: 0.6810 - accuracy: 0.9426 - val_loss: 0.6812 - val_accuracy: 0.9259\n",
      "Epoch 20/20\n",
      "39/39 [==============================] - 1s 24ms/step - loss: 0.6800 - accuracy: 0.9475 - val_loss: 0.6803 - val_accuracy: 0.9306\n",
      "CPU times: user 45.8 s, sys: 29.2 s, total: 1min 15s\n",
      "Wall time: 25.1 s\n"
     ]
    }
   ],
   "source": [
    "%%time\n",
    "fcnn.train.train(train=train, \n",
    "                log_dir='fcnn/logs/',\n",
    "                hidden_layers=[32],\n",
    "                validation_split=0.15,\n",
    "                lr=1e-5, \n",
    "                decay=0.,\n",
    "                examples_limit=-160,\n",
    "                epochs=20, \n",
    "                batch_size=32,\n",
    "                seed=71,\n",
    "                use_dropout=False,\n",
    "                dropout=0.5,\n",
    "               )"
   ]
  },
  {
   "cell_type": "code",
   "execution_count": 8,
   "metadata": {},
   "outputs": [
    {
     "data": {
      "text/plain": [
       "Reusing TensorBoard on port 6008 (pid 20761), started 2 days, 23:28:39 ago. (Use '!kill 20761' to kill it.)"
      ]
     },
     "metadata": {},
     "output_type": "display_data"
    },
    {
     "data": {
      "text/html": [
       "\n",
       "      <iframe id=\"tensorboard-frame-574bb0368078f895\" width=\"100%\" height=\"800\" frameborder=\"0\">\n",
       "      </iframe>\n",
       "      <script>\n",
       "        (function() {\n",
       "          const frame = document.getElementById(\"tensorboard-frame-574bb0368078f895\");\n",
       "          const url = new URL(\"/\", window.location);\n",
       "          url.port = 6008;\n",
       "          frame.src = url;\n",
       "        })();\n",
       "      </script>\n",
       "  "
      ],
      "text/plain": [
       "<IPython.core.display.HTML object>"
      ]
     },
     "metadata": {},
     "output_type": "display_data"
    }
   ],
   "source": [
    "%tensorboard --logdir fcnn/logs/ --port 6008"
   ]
  },
  {
   "cell_type": "markdown",
   "metadata": {},
   "source": [
    "There was really no issue training the model (loss was steadily decreasing), see `TensorBoard` above, therefore a further advanced model was trained:"
   ]
  },
  {
   "cell_type": "markdown",
   "metadata": {},
   "source": [
    "### Towards final model:\n",
    "\n",
    "* All data included\n",
    "* No regularization, i.e. dropout not activated\n",
    "* 128 neurons were included\n",
    "* A faster learning rate of 1e-3 (tuned)\n",
    "* Now striving to train the model smoothly by further tuning the learning rate and assessing early stopping possibilities"
   ]
  },
  {
   "cell_type": "code",
   "execution_count": 9,
   "metadata": {},
   "outputs": [
    {
     "name": "stdout",
     "output_type": "stream",
     "text": [
      "Model: \"sequential_1\"\n",
      "_________________________________________________________________\n",
      "Layer (type)                 Output Shape              Param #   \n",
      "=================================================================\n",
      "dense_2 (Dense)              (None, 128)               1024128   \n",
      "_________________________________________________________________\n",
      "dense_3 (Dense)              (None, 1)                 129       \n",
      "=================================================================\n",
      "Total params: 1,024,257\n",
      "Trainable params: 1,024,257\n",
      "Non-trainable params: 0\n",
      "_________________________________________________________________\n",
      "None\n",
      "\n",
      "Writing fits to: fcnn/logs/nodes128_dropoutFalse_lr0.001_decay0.0_samples-1/20200828-155135\n",
      "Checkpoint path: fcnn/logs/nodes128_dropoutFalse_lr0.001_decay0.0_samples-1/20200828-155135/epoch-{epoch:02d}.h5\n",
      "Epoch 1/20\n",
      "43/43 [==============================] - 2s 46ms/step - loss: 0.5929 - accuracy: 0.9086 - val_loss: 0.4520 - val_accuracy: 0.9792\n",
      "Epoch 2/20\n",
      "43/43 [==============================] - 2s 37ms/step - loss: 0.3160 - accuracy: 0.9786 - val_loss: 0.2126 - val_accuracy: 0.9875\n",
      "Epoch 3/20\n",
      "43/43 [==============================] - 1s 30ms/step - loss: 0.1490 - accuracy: 0.9860 - val_loss: 0.1167 - val_accuracy: 0.9917\n",
      "Epoch 4/20\n",
      "43/43 [==============================] - 1s 27ms/step - loss: 0.0896 - accuracy: 0.9882 - val_loss: 0.0817 - val_accuracy: 0.9917\n",
      "Epoch 5/20\n",
      "43/43 [==============================] - 1s 34ms/step - loss: 0.0652 - accuracy: 0.9882 - val_loss: 0.0665 - val_accuracy: 0.9917\n",
      "Epoch 6/20\n",
      "43/43 [==============================] - 1s 29ms/step - loss: 0.0514 - accuracy: 0.9889 - val_loss: 0.0586 - val_accuracy: 0.9917\n",
      "Epoch 7/20\n",
      "43/43 [==============================] - 1s 29ms/step - loss: 0.0422 - accuracy: 0.9897 - val_loss: 0.0534 - val_accuracy: 0.9958\n",
      "Epoch 8/20\n",
      "43/43 [==============================] - 1s 34ms/step - loss: 0.0361 - accuracy: 0.9904 - val_loss: 0.0515 - val_accuracy: 0.9917\n",
      "Epoch 9/20\n",
      "43/43 [==============================] - 1s 25ms/step - loss: 0.0313 - accuracy: 0.9926 - val_loss: 0.0506 - val_accuracy: 0.9917\n",
      "Epoch 10/20\n",
      "43/43 [==============================] - 2s 36ms/step - loss: 0.0271 - accuracy: 0.9926 - val_loss: 0.0491 - val_accuracy: 0.9917\n",
      "Epoch 11/20\n",
      "43/43 [==============================] - 1s 33ms/step - loss: 0.0241 - accuracy: 0.9934 - val_loss: 0.0490 - val_accuracy: 0.9917\n",
      "Epoch 12/20\n",
      "43/43 [==============================] - 1s 27ms/step - loss: 0.0216 - accuracy: 0.9941 - val_loss: 0.0486 - val_accuracy: 0.9917\n",
      "Epoch 13/20\n",
      "43/43 [==============================] - 1s 31ms/step - loss: 0.0192 - accuracy: 0.9956 - val_loss: 0.0486 - val_accuracy: 0.9917\n",
      "Epoch 14/20\n",
      "43/43 [==============================] - 1s 26ms/step - loss: 0.0176 - accuracy: 0.9963 - val_loss: 0.0486 - val_accuracy: 0.9917\n",
      "Epoch 15/20\n",
      "43/43 [==============================] - 1s 32ms/step - loss: 0.0158 - accuracy: 0.9971 - val_loss: 0.0489 - val_accuracy: 0.9917\n",
      "Epoch 16/20\n",
      "43/43 [==============================] - 1s 28ms/step - loss: 0.0145 - accuracy: 0.9978 - val_loss: 0.0492 - val_accuracy: 0.9917\n",
      "Epoch 17/20\n",
      "43/43 [==============================] - 1s 32ms/step - loss: 0.0132 - accuracy: 0.9971 - val_loss: 0.0499 - val_accuracy: 0.9917\n",
      "Epoch 18/20\n",
      "43/43 [==============================] - 1s 29ms/step - loss: 0.0122 - accuracy: 0.9978 - val_loss: 0.0503 - val_accuracy: 0.9917\n",
      "Epoch 19/20\n",
      "43/43 [==============================] - 1s 28ms/step - loss: 0.0116 - accuracy: 0.9978 - val_loss: 0.0504 - val_accuracy: 0.9917\n",
      "Epoch 20/20\n",
      "43/43 [==============================] - 1s 30ms/step - loss: 0.0108 - accuracy: 0.9985 - val_loss: 0.0516 - val_accuracy: 0.9917\n",
      "CPU times: user 54.8 s, sys: 38.4 s, total: 1min 33s\n",
      "Wall time: 29.1 s\n"
     ]
    }
   ],
   "source": [
    "%%time\n",
    "fcnn.train.train(train=train, \n",
    "                log_dir='fcnn/logs/',\n",
    "                hidden_layers=[128],\n",
    "                validation_split=0.15,\n",
    "                lr=1e-3, \n",
    "                decay=0.,\n",
    "                examples_limit=-1,\n",
    "                epochs=20, \n",
    "                batch_size=32,\n",
    "                seed=71,\n",
    "                use_dropout=False,\n",
    "                dropout=0.5,\n",
    "               )"
   ]
  },
  {
   "cell_type": "code",
   "execution_count": 10,
   "metadata": {},
   "outputs": [
    {
     "data": {
      "text/plain": [
       "Reusing TensorBoard on port 6008 (pid 20761), started 2 days, 23:29:09 ago. (Use '!kill 20761' to kill it.)"
      ]
     },
     "metadata": {},
     "output_type": "display_data"
    },
    {
     "data": {
      "text/html": [
       "\n",
       "      <iframe id=\"tensorboard-frame-a4ad6c21c64051fa\" width=\"100%\" height=\"800\" frameborder=\"0\">\n",
       "      </iframe>\n",
       "      <script>\n",
       "        (function() {\n",
       "          const frame = document.getElementById(\"tensorboard-frame-a4ad6c21c64051fa\");\n",
       "          const url = new URL(\"/\", window.location);\n",
       "          url.port = 6008;\n",
       "          frame.src = url;\n",
       "        })();\n",
       "      </script>\n",
       "  "
      ],
      "text/plain": [
       "<IPython.core.display.HTML object>"
      ]
     },
     "metadata": {},
     "output_type": "display_data"
    }
   ],
   "source": [
    "%tensorboard --logdir fcnn/logs/ --port 6008"
   ]
  },
  {
   "cell_type": "markdown",
   "metadata": {},
   "source": [
    "There was again no issue training the model, see `TensorBoard` above. The model converged very fast and since the loss of the validation function does not increase after a while, there should be limited overfitting."
   ]
  },
  {
   "cell_type": "markdown",
   "metadata": {},
   "source": [
    "### Final model:\n",
    "\n",
    "* All data included\n",
    "* Dropout activated\n",
    "* 128 neurons were included\n",
    "* A learning rate of 1e-3 (tuned)\n",
    "* Applying an early stopping after 12 epochs"
   ]
  },
  {
   "cell_type": "code",
   "execution_count": 11,
   "metadata": {},
   "outputs": [
    {
     "name": "stdout",
     "output_type": "stream",
     "text": [
      "Model: \"sequential_2\"\n",
      "_________________________________________________________________\n",
      "Layer (type)                 Output Shape              Param #   \n",
      "=================================================================\n",
      "dense_4 (Dense)              (None, 128)               1024128   \n",
      "_________________________________________________________________\n",
      "dropout (Dropout)            (None, 128)               0         \n",
      "_________________________________________________________________\n",
      "dense_5 (Dense)              (None, 1)                 129       \n",
      "=================================================================\n",
      "Total params: 1,024,257\n",
      "Trainable params: 1,024,257\n",
      "Non-trainable params: 0\n",
      "_________________________________________________________________\n",
      "None\n",
      "\n",
      "Writing fits to: fcnn/logs/nodes128_dropoutTrue_lr0.001_decay0.0_samples-1/20200828-155204\n",
      "Checkpoint path: fcnn/logs/nodes128_dropoutTrue_lr0.001_decay0.0_samples-1/20200828-155204/epoch-{epoch:02d}.h5\n",
      "Epoch 1/12\n",
      "43/43 [==============================] - 2s 39ms/step - loss: 0.6134 - accuracy: 0.8783 - val_loss: 0.4956 - val_accuracy: 0.9583\n",
      "Epoch 2/12\n",
      "43/43 [==============================] - 1s 25ms/step - loss: 0.3710 - accuracy: 0.9683 - val_loss: 0.2607 - val_accuracy: 0.9833\n",
      "Epoch 3/12\n",
      "43/43 [==============================] - 1s 34ms/step - loss: 0.1940 - accuracy: 0.9764 - val_loss: 0.1440 - val_accuracy: 0.9875\n",
      "Epoch 4/12\n",
      "43/43 [==============================] - 1s 29ms/step - loss: 0.1158 - accuracy: 0.9845 - val_loss: 0.0968 - val_accuracy: 0.9958\n",
      "Epoch 5/12\n",
      "43/43 [==============================] - 1s 30ms/step - loss: 0.0851 - accuracy: 0.9867 - val_loss: 0.0760 - val_accuracy: 0.9958\n",
      "Epoch 6/12\n",
      "43/43 [==============================] - 1s 29ms/step - loss: 0.0690 - accuracy: 0.9875 - val_loss: 0.0649 - val_accuracy: 0.9958\n",
      "Epoch 7/12\n",
      "43/43 [==============================] - 1s 32ms/step - loss: 0.0560 - accuracy: 0.9889 - val_loss: 0.0576 - val_accuracy: 0.9958\n",
      "Epoch 8/12\n",
      "43/43 [==============================] - 1s 31ms/step - loss: 0.0517 - accuracy: 0.9897 - val_loss: 0.0535 - val_accuracy: 0.9958\n",
      "Epoch 9/12\n",
      "43/43 [==============================] - 1s 33ms/step - loss: 0.0432 - accuracy: 0.9904 - val_loss: 0.0512 - val_accuracy: 0.9917\n",
      "Epoch 10/12\n",
      "43/43 [==============================] - 1s 29ms/step - loss: 0.0380 - accuracy: 0.9897 - val_loss: 0.0490 - val_accuracy: 0.9917\n",
      "Epoch 11/12\n",
      "43/43 [==============================] - 1s 30ms/step - loss: 0.0348 - accuracy: 0.9897 - val_loss: 0.0478 - val_accuracy: 0.9917\n",
      "Epoch 12/12\n",
      "43/43 [==============================] - 1s 28ms/step - loss: 0.0334 - accuracy: 0.9912 - val_loss: 0.0470 - val_accuracy: 0.9917\n",
      "CPU times: user 33.2 s, sys: 22.6 s, total: 55.8 s\n",
      "Wall time: 18 s\n"
     ]
    }
   ],
   "source": [
    "%%time\n",
    "fcnn.train.train(train=train, \n",
    "                log_dir='fcnn/logs/',\n",
    "                hidden_layers=[128],\n",
    "                validation_split=0.15,\n",
    "                lr=1e-3, \n",
    "                decay=0.,\n",
    "                examples_limit=-1,\n",
    "                epochs=12, \n",
    "                batch_size=32,\n",
    "                seed=71,\n",
    "                use_dropout=True,\n",
    "                dropout=0.5,\n",
    "               )"
   ]
  },
  {
   "cell_type": "code",
   "execution_count": 12,
   "metadata": {},
   "outputs": [
    {
     "data": {
      "text/plain": [
       "Reusing TensorBoard on port 6008 (pid 20761), started 2 days, 23:29:27 ago. (Use '!kill 20761' to kill it.)"
      ]
     },
     "metadata": {},
     "output_type": "display_data"
    },
    {
     "data": {
      "text/html": [
       "\n",
       "      <iframe id=\"tensorboard-frame-b6e8ce8bb32356bd\" width=\"100%\" height=\"800\" frameborder=\"0\">\n",
       "      </iframe>\n",
       "      <script>\n",
       "        (function() {\n",
       "          const frame = document.getElementById(\"tensorboard-frame-b6e8ce8bb32356bd\");\n",
       "          const url = new URL(\"/\", window.location);\n",
       "          url.port = 6008;\n",
       "          frame.src = url;\n",
       "        })();\n",
       "      </script>\n",
       "  "
      ],
      "text/plain": [
       "<IPython.core.display.HTML object>"
      ]
     },
     "metadata": {},
     "output_type": "display_data"
    }
   ],
   "source": [
    "%tensorboard --logdir fcnn/logs/ --port 6008"
   ]
  }
 ],
 "metadata": {
  "kernelspec": {
   "display_name": "Python 3",
   "language": "python",
   "name": "python3"
  },
  "language_info": {
   "codemirror_mode": {
    "name": "ipython",
    "version": 3
   },
   "file_extension": ".py",
   "mimetype": "text/x-python",
   "name": "python",
   "nbconvert_exporter": "python",
   "pygments_lexer": "ipython3",
   "version": "3.6.10"
  }
 },
 "nbformat": 4,
 "nbformat_minor": 4
}
