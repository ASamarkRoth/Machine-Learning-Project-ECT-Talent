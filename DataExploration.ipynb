{
 "cells": [
  {
   "cell_type": "markdown",
   "metadata": {},
   "source": [
    "# Data exploration"
   ]
  },
  {
   "cell_type": "code",
   "execution_count": null,
   "metadata": {},
   "outputs": [],
   "source": [
    "import matplotlib.pyplot as plt\n",
    "import numpy as np\n",
    "import h5py\n",
    "import re\n",
    "import pandas as pd"
   ]
  },
  {
   "cell_type": "markdown",
   "metadata": {},
   "source": [
    "### Load code for this project"
   ]
  },
  {
   "cell_type": "code",
   "execution_count": null,
   "metadata": {},
   "outputs": [],
   "source": [
    "import data_processing.data as dp\n",
    "%load_ext autoreload\n",
    "%autoreload 1\n",
    "%aimport data_processing.data"
   ]
  },
  {
   "cell_type": "code",
   "execution_count": null,
   "metadata": {},
   "outputs": [],
   "source": [
    "%matplotlib inline"
   ]
  },
  {
   "cell_type": "markdown",
   "metadata": {},
   "source": [
    "### Investigate structure of data"
   ]
  },
  {
   "cell_type": "code",
   "execution_count": null,
   "metadata": {},
   "outputs": [],
   "source": [
    "filename = 'data_processing/data/Mg22_alphaalpha_digiSim.h5'\n",
    "hf = h5py.File(filename, \"r\")\n",
    "hf.get('/get')"
   ]
  },
  {
   "cell_type": "code",
   "execution_count": null,
   "metadata": {},
   "outputs": [],
   "source": [
    "event_i = 1\n",
    "event = hf[\"Event_[{}]\".format(event_i)][:]\n",
    "display(pd.DataFrame(event))"
   ]
  },
  {
   "cell_type": "markdown",
   "metadata": {},
   "source": [
    "### Length of events"
   ]
  },
  {
   "cell_type": "code",
   "execution_count": null,
   "metadata": {},
   "outputs": [],
   "source": [
    "length = []\n",
    "for key in hf.keys():\n",
    "    length.append(len(hf[key]))\n",
    "length = np.asarray(length)"
   ]
  },
  {
   "cell_type": "code",
   "execution_count": null,
   "metadata": {},
   "outputs": [],
   "source": [
    "plt.figure()\n",
    "plt.hist(length, bins=100)\n",
    "plt.xlabel(\"Length (items)\")\n",
    "plt.show()"
   ]
  },
  {
   "cell_type": "markdown",
   "metadata": {},
   "source": [
    "## Visualisation"
   ]
  },
  {
   "cell_type": "code",
   "execution_count": null,
   "metadata": {},
   "outputs": [],
   "source": [
    "%matplotlib inline\n",
    "\n",
    "event_i = 1\n",
    "\n",
    "fig = plt.figure(figsize=(12,6))\n",
    "ax = plt.subplot(131)\n",
    "sc = plt.scatter(dp.get_event_by_index(hf, event_i)[\"x\"], dp.get_event_by_index(hf, event_i)[\"y\"], c=dp.get_event_by_index(hf, event_i)[\"A\"], cmap='Greys')\n",
    "ax.set_xlabel(\"x\")\n",
    "ax.set_ylabel(\"y\")\n",
    "ax.set_title(\"XY projection, linear scale\")\n",
    "\n",
    "ax = plt.subplot(132)\n",
    "sc = plt.scatter(dp.get_event_by_index(hf, event_i)[\"x\"], dp.get_event_by_index(hf, event_i)[\"y\"], c=np.log(dp.get_event_by_index(hf, event_i)[\"A\"]), cmap='Greys')\n",
    "ax.set_xlabel(\"x\")\n",
    "ax.set_ylabel(\"z\")\n",
    "ax.set_title(\"XY projection, log scale\")\n",
    "\n",
    "#cbar = fig.colorbar(sc, orientation='vertical', label='A')    \n",
    "\n",
    "plt.show()"
   ]
  },
  {
   "cell_type": "code",
   "execution_count": null,
   "metadata": {},
   "outputs": [],
   "source": [
    "%matplotlib inline\n",
    "\n",
    "event_i = 5\n",
    "\n",
    "fig = plt.figure(figsize=(12,6))\n",
    "ax = plt.subplot(131)\n",
    "sc = plt.scatter(dp.get_event_by_index(hf, event_i)[\"x\"], dp.get_event_by_index(hf, event_i)[\"y\"], c=np.log(dp.get_event_by_index(hf, event_i)[\"A\"]), cmap='Greys')\n",
    "ax.set_xlabel(\"x\")\n",
    "ax.set_ylabel(\"y\")\n",
    "ax.set_title(\"XY projection\")\n",
    "\n",
    "ax = plt.subplot(132)\n",
    "sc = plt.scatter(dp.get_event_by_index(hf, event_i)[\"x\"], dp.get_event_by_index(hf, event_i)[\"z\"], c=np.log(dp.get_event_by_index(hf, event_i)[\"A\"]), cmap='Greys')\n",
    "ax.set_xlabel(\"x\")\n",
    "ax.set_ylabel(\"z\")\n",
    "ax.set_title(\"XZ projection\")\n",
    "\n",
    "ax = plt.subplot(133)\n",
    "sc = plt.scatter(dp.get_event_by_index(hf, event_i)[\"y\"], dp.get_event_by_index(hf, event_i)[\"z\"], c=np.log(dp.get_event_by_index(hf, event_i)[\"A\"]), cmap='Greys')\n",
    "ax.set_xlabel(\"y\")\n",
    "ax.set_ylabel(\"z\")\n",
    "ax.set_title(\"YZ projection\")\n",
    "\n",
    "cbar = fig.colorbar(sc, orientation='vertical', label='A')    \n",
    "\n",
    "plt.show()"
   ]
  },
  {
   "cell_type": "code",
   "execution_count": null,
   "metadata": {},
   "outputs": [],
   "source": [
    "n_rows, n_cols = 4, 4\n",
    "\n",
    "fig = plt.figure(figsize=(12,12))\n",
    "\n",
    "for i in range(n_rows*n_cols):\n",
    "    ax = plt.subplot(n_rows, n_cols, i+1)\n",
    "    sc = plt.scatter(dp.get_event_by_index(hf, i)[\"x\"], dp.get_event_by_index(hf, i)[\"y\"], c=np.log(dp.get_event_by_index(hf, i)[\"A\"]), cmap='Greys')\n",
    "    ax.set_xlabel(\"x\")\n",
    "    ax.set_ylabel(\"y\")\n",
    "    ax.set_title(\"Event: {}\".format(i))\n",
    "    #plt.xlim(-275.0, 275.0)\n",
    "    #plt.ylim((-275.0, 275.0))\n",
    "    #ax.set_aspect('equal', adjustable='box')\n",
    "plt.tight_layout()\n",
    "plt.show()"
   ]
  },
  {
   "cell_type": "markdown",
   "metadata": {},
   "source": [
    "## Read and label data - to dictionary"
   ]
  },
  {
   "cell_type": "markdown",
   "metadata": {},
   "source": [
    "* Even events: beam -> label = 0\n",
    "* Odd events: beam -> label = 1"
   ]
  },
  {
   "cell_type": "code",
   "execution_count": null,
   "metadata": {},
   "outputs": [],
   "source": [
    "dict_data = dp.read_and_label_data(\"data_processing/data/\")"
   ]
  },
  {
   "cell_type": "markdown",
   "metadata": {},
   "source": [
    "## Investigate distributions of parameters"
   ]
  },
  {
   "cell_type": "code",
   "execution_count": null,
   "metadata": {},
   "outputs": [],
   "source": [
    "cols = [\"Event\", \"Label\", \"length\", \n",
    "        \"x_mean\", \"y_mean\", \"z_mean\", \"A_mean\",\n",
    "        \"x_std\", \"y_std\", \"z_std\", \"A_std\",\n",
    "       ]\n",
    "df = pd.DataFrame(columns=cols)\n",
    "for i, key in enumerate(hf.keys()):\n",
    "#for i, key in enumerate(sorted(dict_data)):\n",
    "    #if i > 3:\n",
    "    #    break\n",
    "    #print(i, key)\n",
    "    #print(pd.DataFrame(hf[key][:]))\n",
    "    d = pd.DataFrame(hf[key][:])\n",
    "    means = np.mean(d, axis=0)\n",
    "    std_devs = np.std(d, axis=0)\n",
    "\n",
    "    #print(means)\n",
    "    df = df.append({\"Event\": dp.get_event_from_key(key), \"Label\": dp.get_label_name(key), \"length\": d.shape[0], \n",
    "                    \"x_mean\": means[\"x\"], \"y_mean\": means[\"y\"], \"z_mean\": means[\"z\"], \"A_mean\": means[\"A\"],\n",
    "                    \"x_std\": std_devs[\"x\"], \"y_std\": std_devs[\"y\"], \"z_std\": std_devs[\"z\"], \"A_std\": std_devs[\"A\"],\n",
    "                   }, ignore_index=True)\n",
    "df = df.sort_values(\"Event\")\n",
    "display(df.head())"
   ]
  },
  {
   "cell_type": "code",
   "execution_count": null,
   "metadata": {},
   "outputs": [],
   "source": [
    "import seaborn as sns\n",
    "sns.set(context='notebook', style='darkgrid', palette='deep', font_scale=2., color_codes=True, rc=None)"
   ]
  },
  {
   "cell_type": "code",
   "execution_count": null,
   "metadata": {},
   "outputs": [],
   "source": [
    "sns.pairplot(df, hue=\"Label\", vars=[\"x_mean\", \"y_mean\", \"z_mean\", \"A_mean\"], kind='scatter', diag_kind='hist');\n",
    "plt.show()"
   ]
  },
  {
   "cell_type": "code",
   "execution_count": null,
   "metadata": {},
   "outputs": [],
   "source": [
    "sns.pairplot(df, hue=\"Label\", vars=[\"x_std\", \"y_std\", \"z_std\", \"A_std\"], kind='scatter', diag_kind='hist');\n",
    "plt.show()"
   ]
  }
 ],
 "metadata": {
  "kernelspec": {
   "display_name": "Python 3",
   "language": "python",
   "name": "python3"
  },
  "language_info": {
   "codemirror_mode": {
    "name": "ipython",
    "version": 3
   },
   "file_extension": ".py",
   "mimetype": "text/x-python",
   "name": "python",
   "nbconvert_exporter": "python",
   "pygments_lexer": "ipython3",
   "version": "3.6.10"
  }
 },
 "nbformat": 4,
 "nbformat_minor": 4
}
